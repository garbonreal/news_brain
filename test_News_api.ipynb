{
 "cells": [
  {
   "cell_type": "code",
   "execution_count": null,
   "metadata": {},
   "outputs": [],
   "source": [
    "from newsapi.newsapi_client import NewsApiClient\n",
    "import pandas as pd\n",
    "from datetime import date, timedelta"
   ]
  },
  {
   "cell_type": "code",
   "execution_count": null,
   "metadata": {},
   "outputs": [],
   "source": [
    "today = date.today()\n",
    "yesterday = today - timedelta(days=1)\n",
    "day_before_yesterday = today - timedelta(days = 2)\n",
    "\n",
    "# source = https://newsapi.org/docs/client-libraries/python\n",
    "\n",
    "# Init\n",
    "newsapi = NewsApiClient(api_key='Your api key')\n",
    "\n",
    "# /v2/top-headlines\n",
    "top_headlines = newsapi.get_top_headlines(\n",
    "                                          category='general',\n",
    "                                          language='en',\n",
    "                                          page_size=90,\n",
    "                                          page=1\n",
    "                                        )\n",
    "\n",
    "articles = top_headlines.get('articles', [])\n",
    "\n",
    "# Create a DataFrame with specific columns\n",
    "init_df = pd.DataFrame(articles, columns=['source','title','publishedAt','author','url'])\n",
    "\n",
    "# Data Cleaning to remove unwanted parts in the source column\n",
    "init_df['source'] = init_df['source'].apply(lambda x: x['name'] if pd.notna(x) and 'name' in x else None)\n",
    "\n",
    "# Change the date column to datetime\n",
    "init_df['publishedAt'] = pd.to_datetime(init_df['publishedAt'])\n",
    "\n",
    "# We only need yesterday's and the day before yesterdays data\n",
    "filtered_df = init_df[(init_df['publishedAt'].dt.date == day_before_yesterday) | (init_df['publishedAt'].dt.date == yesterday)]\n",
    "\n",
    "\n",
    "# Create a copy of the data frame as a new variable\n",
    "df = filtered_df.copy()"
   ]
  },
  {
   "cell_type": "code",
   "execution_count": null,
   "metadata": {},
   "outputs": [],
   "source": [
    "from newsapi import NewsApiClient\n",
    "\n",
    "# Init\n",
    "newsapi = NewsApiClient(api_key='199fa37d3cd647f8b1859a7a8712b74b')\n",
    "\n",
    "# /v2/top-headlines\n",
    "top_headlines = newsapi.get_top_headlines(q='bitcoin',\n",
    "                                          sources='bbc-news,the-verge',\n",
    "                                          category='business',\n",
    "                                          language='en',\n",
    "                                          country='us')\n",
    "\n",
    "# /v2/everything\n",
    "all_articles = newsapi.get_everything(q='bitcoin',\n",
    "                                      sources='bbc-news,the-verge',\n",
    "                                      domains='bbc.co.uk,techcrunch.com',\n",
    "                                      from_param='2017-12-01',\n",
    "                                      to='2017-12-12',\n",
    "                                      language='en',\n",
    "                                      sort_by='relevancy',\n",
    "                                      page=2)\n",
    "\n",
    "# /v2/top-headlines/sources\n",
    "sources = newsapi.get_sources()"
   ]
  }
 ],
 "metadata": {
  "kernelspec": {
   "display_name": "Python 3.7.7 ('ReportKeeper-pT6tcvq4')",
   "language": "python",
   "name": "python3"
  },
  "language_info": {
   "name": "python",
   "version": "3.7.7"
  },
  "orig_nbformat": 4,
  "vscode": {
   "interpreter": {
    "hash": "5aedd30828ddc9af7861d6cb95e3eff7aeb4b83b8a8b4f53e23537fa9fe82f7b"
   }
  }
 },
 "nbformat": 4,
 "nbformat_minor": 2
}
